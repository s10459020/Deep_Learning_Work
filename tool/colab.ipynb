{
  "nbformat": 4,
  "nbformat_minor": 0,
  "metadata": {
    "colab": {
      "name": "classwork_4_19.ipynb",
      "provenance": [],
      "toc_visible": true,
      "include_colab_link": true
    },
    "kernelspec": {
      "name": "python3",
      "display_name": "Python 3"
    },
    "language_info": {
      "name": "python"
    }
  },
  "cells": [
    {
      "cell_type": "markdown",
      "metadata": {
        "id": "view-in-github",
        "colab_type": "text"
      },
      "source": [
        "<a href=\"https://colab.research.google.com/github/s10459020/Mechine_Learning/blob/develop/tool/colab.ipynb\" target=\"_parent\"><img src=\"https://colab.research.google.com/assets/colab-badge.svg\" alt=\"Open In Colab\"/></a>"
      ]
    },
    {
      "cell_type": "markdown",
      "metadata": {
        "id": "b-BqCR-L61ZG"
      },
      "source": [
        "# Import Sklearn package"
      ]
    },
    {
      "cell_type": "code",
      "metadata": {
        "id": "u3Czw9FW6Cog"
      },
      "source": [
        "from sklearn import datasets\n",
        "from sklearn.datasets import load_iris\n",
        "from sklearn.model_selection import train_test_split"
      ],
      "execution_count": null,
      "outputs": []
    },
    {
      "cell_type": "markdown",
      "metadata": {
        "id": "ZWRHEUb2PaUa"
      },
      "source": [
        "## Gaussian"
      ]
    },
    {
      "cell_type": "code",
      "metadata": {
        "id": "IdjRZZd-ELOG"
      },
      "source": [
        "from sklearn.naive_bayes import GaussianNB"
      ],
      "execution_count": null,
      "outputs": []
    },
    {
      "cell_type": "markdown",
      "metadata": {
        "id": "zjl4XMclPlHz"
      },
      "source": [
        "## Tree"
      ]
    },
    {
      "cell_type": "code",
      "metadata": {
        "id": "MeCE3n64D-4l"
      },
      "source": [
        "import matplotlib.pyplot as plt\n",
        "from sklearn import tree\n",
        "from sklearn.tree import DecisionTreeClassifier"
      ],
      "execution_count": null,
      "outputs": []
    },
    {
      "cell_type": "markdown",
      "metadata": {
        "id": "i4wUT-CAPodY"
      },
      "source": [
        "## SVM"
      ]
    },
    {
      "cell_type": "code",
      "metadata": {
        "id": "cXX4X93wPupg"
      },
      "source": [
        "from sklearn.neighbors import KNeighborsClassifier\n",
        "from sklearn import svm"
      ],
      "execution_count": null,
      "outputs": []
    },
    {
      "cell_type": "markdown",
      "metadata": {
        "id": "wyqYNFFW7CLc"
      },
      "source": [
        "# Setting **Dataset**"
      ]
    },
    {
      "cell_type": "code",
      "metadata": {
        "id": "ZQ3P5Ua060td"
      },
      "source": [
        "iris = datasets.load_iris()\n",
        "iris_data = iris.data\n",
        "iris_label = iris.target\n",
        "\n",
        "[\n",
        "  train_data,   test_data, \n",
        "  train_label,  test_label\n",
        "] = train_test_split(\n",
        "  iris_data,    iris_label, \n",
        "  test_size = 0.2\n",
        ")"
      ],
      "execution_count": null,
      "outputs": []
    },
    {
      "cell_type": "code",
      "metadata": {
        "id": "R-9QYl90EXHr",
        "colab": {
          "base_uri": "https://localhost:8080/"
        },
        "outputId": "b53fc7c0-97f4-4344-d1d0-9d49fd81a955"
      },
      "source": [
        "print(f\"train data size: { len(train_data) }\")\n",
        "print(f\"test data size: { len(test_data) }\")"
      ],
      "execution_count": null,
      "outputs": [
        {
          "output_type": "stream",
          "text": [
            "train data size: 120\n",
            "test data size: 30\n"
          ],
          "name": "stdout"
        }
      ]
    },
    {
      "cell_type": "markdown",
      "metadata": {
        "id": "55fLJMSzCZVF"
      },
      "source": [
        "# Bayes"
      ]
    },
    {
      "cell_type": "code",
      "metadata": {
        "id": "uuSgUAn2FK7c"
      },
      "source": [
        "clf = GaussianNB()\n",
        "clf = clf.fit(train_data, train_label)\n",
        "predict = clf.predict(test_data)\n",
        "truth = test_label"
      ],
      "execution_count": null,
      "outputs": []
    },
    {
      "cell_type": "markdown",
      "metadata": {
        "id": "0hI1_zA1FEDk"
      },
      "source": [
        "# Decision"
      ]
    },
    {
      "cell_type": "code",
      "metadata": {
        "colab": {
          "base_uri": "https://localhost:8080/"
        },
        "id": "ICDd586SCkxo",
        "outputId": "0f4887a5-4bc0-42e1-b721-27af3ef4bced"
      },
      "source": [
        "decision = DecisionTreeClassifier(max_depth = 2)\n",
        "decision.fit(train_data, train_label)"
      ],
      "execution_count": null,
      "outputs": [
        {
          "output_type": "execute_result",
          "data": {
            "text/plain": [
              "DecisionTreeClassifier(ccp_alpha=0.0, class_weight=None, criterion='gini',\n",
              "                       max_depth=2, max_features=None, max_leaf_nodes=None,\n",
              "                       min_impurity_decrease=0.0, min_impurity_split=None,\n",
              "                       min_samples_leaf=1, min_samples_split=2,\n",
              "                       min_weight_fraction_leaf=0.0, presort='deprecated',\n",
              "                       random_state=None, splitter='best')"
            ]
          },
          "metadata": {
            "tags": []
          },
          "execution_count": 8
        }
      ]
    },
    {
      "cell_type": "code",
      "metadata": {
        "id": "AAjmJ8f4FeGi",
        "colab": {
          "base_uri": "https://localhost:8080/",
          "height": 333
        },
        "outputId": "02189663-78f6-4721-8166-bd7d3423f531"
      },
      "source": [
        "tree.plot_tree(decision)"
      ],
      "execution_count": null,
      "outputs": [
        {
          "output_type": "execute_result",
          "data": {
            "text/plain": [
              "[Text(133.92000000000002, 181.2, 'X[2] <= 2.45\\ngini = 0.664\\nsamples = 120\\nvalue = [41, 44, 35]'),\n",
              " Text(66.96000000000001, 108.72, 'gini = 0.0\\nsamples = 41\\nvalue = [41, 0, 0]'),\n",
              " Text(200.88000000000002, 108.72, 'X[3] <= 1.65\\ngini = 0.494\\nsamples = 79\\nvalue = [0, 44, 35]'),\n",
              " Text(133.92000000000002, 36.23999999999998, 'gini = 0.12\\nsamples = 47\\nvalue = [0, 44, 3]'),\n",
              " Text(267.84000000000003, 36.23999999999998, 'gini = 0.0\\nsamples = 32\\nvalue = [0, 0, 32]')]"
            ]
          },
          "metadata": {
            "tags": []
          },
          "execution_count": 9
        },
        {
          "output_type": "display_data",
          "data": {
            "image/png": "[encoded data removed]",
            "text/plain": [
              "<Figure size 432x288 with 1 Axes>"
            ]
          },
          "metadata": {
            "tags": [],
            "needs_background": "light"
          }
        }
      ]
    },
    {
      "cell_type": "code",
      "metadata": {
        "colab": {
          "base_uri": "https://localhost:8080/",
          "height": 1000
        },
        "id": "wy_z5La1NtHL",
        "outputId": "e3540cec-d45d-4d29-a2c4-b68d4de8f74b"
      },
      "source": [
        "fn = [\n",
        "  \"sepal length (cm)\",\n",
        "  \"sepal width (cm)\",\n",
        "  \"petal length (cm)\",\n",
        "  \"petal width (cm)\"\n",
        "]\n",
        "\n",
        "cn = [\n",
        "  \"setosa\",\n",
        "  \"versicolor\",\n",
        "  \"virginica\"\n",
        "]\n",
        "\n",
        "[\n",
        " fig,\n",
        " axes\n",
        "] = plt.subplots( \n",
        "    nrows = 1,\n",
        "    ncols = 1,\n",
        "    figsize = (4,4),\n",
        "    dpi = 300\n",
        ")\n",
        "\n",
        "tree.plot_tree(\n",
        "    clf,\n",
        "    feature_names = fn,\n",
        "    class_names = cn,\n",
        "    filled = True\n",
        ")"
      ],
      "execution_count": null,
      "outputs": [
        {
          "output_type": "error",
          "ename": "AttributeError",
          "evalue": "ignored",
          "traceback": [
            "\u001b[0;31m---------------------------------------------------------------------------\u001b[0m",
            "\u001b[0;31mAttributeError\u001b[0m                            Traceback (most recent call last)",
            "\u001b[0;32m<ipython-input-10-6591c1b42a7f>\u001b[0m in \u001b[0;36m<module>\u001b[0;34m()\u001b[0m\n\u001b[1;32m     26\u001b[0m     \u001b[0mfeature_names\u001b[0m \u001b[0;34m=\u001b[0m \u001b[0mfn\u001b[0m\u001b[0;34m,\u001b[0m\u001b[0;34m\u001b[0m\u001b[0;34m\u001b[0m\u001b[0m\n\u001b[1;32m     27\u001b[0m     \u001b[0mclass_names\u001b[0m \u001b[0;34m=\u001b[0m \u001b[0mcn\u001b[0m\u001b[0;34m,\u001b[0m\u001b[0;34m\u001b[0m\u001b[0;34m\u001b[0m\u001b[0m\n\u001b[0;32m---> 28\u001b[0;31m     \u001b[0mfilled\u001b[0m \u001b[0;34m=\u001b[0m \u001b[0;32mTrue\u001b[0m\u001b[0;34m\u001b[0m\u001b[0;34m\u001b[0m\u001b[0m\n\u001b[0m\u001b[1;32m     29\u001b[0m )\n",
            "\u001b[0;32m/usr/local/lib/python3.7/dist-packages/sklearn/tree/_export.py\u001b[0m in \u001b[0;36mplot_tree\u001b[0;34m(decision_tree, max_depth, feature_names, class_names, label, filled, impurity, node_ids, proportion, rotate, rounded, precision, ax, fontsize)\u001b[0m\n\u001b[1;32m    174\u001b[0m         \u001b[0mproportion\u001b[0m\u001b[0;34m=\u001b[0m\u001b[0mproportion\u001b[0m\u001b[0;34m,\u001b[0m \u001b[0mrotate\u001b[0m\u001b[0;34m=\u001b[0m\u001b[0mrotate\u001b[0m\u001b[0;34m,\u001b[0m \u001b[0mrounded\u001b[0m\u001b[0;34m=\u001b[0m\u001b[0mrounded\u001b[0m\u001b[0;34m,\u001b[0m\u001b[0;34m\u001b[0m\u001b[0;34m\u001b[0m\u001b[0m\n\u001b[1;32m    175\u001b[0m         precision=precision, fontsize=fontsize)\n\u001b[0;32m--> 176\u001b[0;31m     \u001b[0;32mreturn\u001b[0m \u001b[0mexporter\u001b[0m\u001b[0;34m.\u001b[0m\u001b[0mexport\u001b[0m\u001b[0;34m(\u001b[0m\u001b[0mdecision_tree\u001b[0m\u001b[0;34m,\u001b[0m \u001b[0max\u001b[0m\u001b[0;34m=\u001b[0m\u001b[0max\u001b[0m\u001b[0;34m)\u001b[0m\u001b[0;34m\u001b[0m\u001b[0;34m\u001b[0m\u001b[0m\n\u001b[0m\u001b[1;32m    177\u001b[0m \u001b[0;34m\u001b[0m\u001b[0m\n\u001b[1;32m    178\u001b[0m \u001b[0;34m\u001b[0m\u001b[0m\n",
            "\u001b[0;32m/usr/local/lib/python3.7/dist-packages/sklearn/tree/_export.py\u001b[0m in \u001b[0;36mexport\u001b[0;34m(self, decision_tree, ax)\u001b[0m\n\u001b[1;32m    564\u001b[0m         \u001b[0max\u001b[0m\u001b[0;34m.\u001b[0m\u001b[0mclear\u001b[0m\u001b[0;34m(\u001b[0m\u001b[0;34m)\u001b[0m\u001b[0;34m\u001b[0m\u001b[0;34m\u001b[0m\u001b[0m\n\u001b[1;32m    565\u001b[0m         \u001b[0max\u001b[0m\u001b[0;34m.\u001b[0m\u001b[0mset_axis_off\u001b[0m\u001b[0;34m(\u001b[0m\u001b[0;34m)\u001b[0m\u001b[0;34m\u001b[0m\u001b[0;34m\u001b[0m\u001b[0m\n\u001b[0;32m--> 566\u001b[0;31m         my_tree = self._make_tree(0, decision_tree.tree_,\n\u001b[0m\u001b[1;32m    567\u001b[0m                                   decision_tree.criterion)\n\u001b[1;32m    568\u001b[0m         \u001b[0mdraw_tree\u001b[0m \u001b[0;34m=\u001b[0m \u001b[0mbuchheim\u001b[0m\u001b[0;34m(\u001b[0m\u001b[0mmy_tree\u001b[0m\u001b[0;34m)\u001b[0m\u001b[0;34m\u001b[0m\u001b[0;34m\u001b[0m\u001b[0m\n",
            "\u001b[0;31mAttributeError\u001b[0m: 'GaussianNB' object has no attribute 'tree_'"
          ]
        },
        {
          "output_type": "display_data",
          "data": {
            "image/png": "[encoded data removed]",
            "text/plain": [
              "<Figure size 1200x1200 with 1 Axes>"
            ]
          },
          "metadata": {
            "tags": [],
            "needs_background": "light"
          }
        }
      ]
    },
    {
      "cell_type": "markdown",
      "metadata": {
        "id": "52TH2tv4PW0x"
      },
      "source": [
        "# SVM"
      ]
    },
    {
      "cell_type": "code",
      "metadata": {
        "id": "BTGqL03VQFln"
      },
      "source": [
        "svc = svm.SVC()\n",
        "svc.fit(train_data, train_label)\n",
        "svc_predict = svc.predict(test_data)\n",
        "svc_truth = test_label"
      ],
      "execution_count": null,
      "outputs": []
    },
    {
      "cell_type": "code",
      "metadata": {
        "id": "VMPL7KB0QjLr"
      },
      "source": [
        "print(f\"predict\\t : {svc_predict}\")\n",
        "print(f\"truth\\t : {svc_truth}\")"
      ],
      "execution_count": null,
      "outputs": []
    },
    {
      "cell_type": "code",
      "metadata": {
        "id": "BFFaEog9Qrlo"
      },
      "source": [
        ""
      ],
      "execution_count": null,
      "outputs": []
    }
  ]
}